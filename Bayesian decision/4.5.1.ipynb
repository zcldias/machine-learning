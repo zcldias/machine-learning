{
 "cells": [
  {
   "cell_type": "code",
   "execution_count": 1,
   "metadata": {},
   "outputs": [],
   "source": [
    "import numpy as np"
   ]
  },
  {
   "cell_type": "code",
   "execution_count": 2,
   "metadata": {},
   "outputs": [],
   "source": [
    "#词表到向量的转换函数\n",
    "#创建实验样本\n",
    "def loadDataSet():\n",
    "    #词条切分后的文档集合\n",
    "    postingList = [['my','dog','has','flea',\\\n",
    "                    'problems','help','please'],\n",
    "                   ['maybe','not','take','him',\\\n",
    "                    'to','dog','park','stupid'],\n",
    "                   ['my','dalmation','is','so',\\\n",
    "                    'cute','i','love','him'],\n",
    "                   ['stop','posting','stupid','worthless','garbage'],\n",
    "                   ['mr','licks','ate','my','steak','how','to','stop','him'],\n",
    "                  ['quit','buying','worthless','dog','food','stupid']]\n",
    "    \n",
    "    #类别标签集合,1代表侮辱性文字，0代表正常言论\n",
    "    classvec = [0,1,0,1,0,1]\n",
    "    return postingList,classvec"
   ]
  },
  {
   "cell_type": "code",
   "execution_count": 5,
   "metadata": {},
   "outputs": [],
   "source": [
    "def createvocablist(dataset):\n",
    "    #创建一个空的集合\n",
    "    vocabset = set([])\n",
    "    for document in dataset:\n",
    "        #创建两个集合的并集\n",
    "        vocabset = vocabset|set(document)\n",
    "    return list(vocabset) #返回列表，内容是无重复单词文档内容列表\n"
   ]
  },
  {
   "cell_type": "code",
   "execution_count": 6,
   "metadata": {},
   "outputs": [],
   "source": [
    "#vocablist是已经知道的词汇表，inputset是某文档\n",
    "def setofwordstovec(vocablist,inputset):\n",
    "    #创建一个列表，内容为零，长度与词汇表相等\n",
    "    returnvec = [0]*len(vocablist) \n",
    "    #如果词汇表中的单词在文档中出现，则将returnvec中对应位置置1\n",
    "    for word in inputset:\n",
    "        if word in vocablist:\n",
    "            returnvec[vocablist.index(word)]=1\n",
    "        else:\n",
    "            print(\"the word:%s is not in my vocabulary!\"% word)\n",
    "    return returnvec\n",
    "        "
   ]
  },
  {
   "cell_type": "code",
   "execution_count": 8,
   "metadata": {},
   "outputs": [
    {
     "name": "stdout",
     "output_type": "stream",
     "text": [
      "[['my', 'dog', 'has', 'flea', 'problems', 'help', 'please'], ['maybe', 'not', 'take', 'him', 'to', 'dog', 'park', 'stupid'], ['my', 'dalmation', 'is', 'so', 'cute', 'i', 'love', 'him'], ['stop', 'posting', 'stupid', 'worthless', 'garbage'], ['mr', 'licks', 'ate', 'my', 'steak', 'how', 'to', 'stop', 'him'], ['quit', 'buying', 'worthless', 'dog', 'food', 'stupid']] [0, 1, 0, 1, 0, 1]\n"
     ]
    }
   ],
   "source": [
    "#对上面三个函数测试\n",
    "listOPosts,listClasses = loadDataSet()\n",
    "print(listOPosts,listClasses)"
   ]
  },
  {
   "cell_type": "code",
   "execution_count": 11,
   "metadata": {},
   "outputs": [
    {
     "data": {
      "text/plain": [
       "['him',\n",
       " 'take',\n",
       " 'my',\n",
       " 'quit',\n",
       " 'food',\n",
       " 'cute',\n",
       " 'garbage',\n",
       " 'has',\n",
       " 'is',\n",
       " 'please',\n",
       " 'posting',\n",
       " 'i',\n",
       " 'flea',\n",
       " 'love',\n",
       " 'maybe',\n",
       " 'stop',\n",
       " 'problems',\n",
       " 'to',\n",
       " 'dalmation',\n",
       " 'help',\n",
       " 'worthless',\n",
       " 'mr',\n",
       " 'dog',\n",
       " 'steak',\n",
       " 'buying',\n",
       " 'licks',\n",
       " 'stupid',\n",
       " 'so',\n",
       " 'how',\n",
       " 'park',\n",
       " 'ate',\n",
       " 'not']"
      ]
     },
     "execution_count": 11,
     "metadata": {},
     "output_type": "execute_result"
    }
   ],
   "source": [
    "myVocablist = createvocablist(listOPosts)\n",
    "myVocablist"
   ]
  },
  {
   "cell_type": "code",
   "execution_count": 14,
   "metadata": {},
   "outputs": [
    {
     "data": {
      "text/plain": [
       "[0,\n",
       " 0,\n",
       " 1,\n",
       " 0,\n",
       " 0,\n",
       " 0,\n",
       " 0,\n",
       " 1,\n",
       " 0,\n",
       " 1,\n",
       " 0,\n",
       " 0,\n",
       " 1,\n",
       " 0,\n",
       " 0,\n",
       " 0,\n",
       " 1,\n",
       " 0,\n",
       " 0,\n",
       " 1,\n",
       " 0,\n",
       " 0,\n",
       " 1,\n",
       " 0,\n",
       " 0,\n",
       " 0,\n",
       " 0,\n",
       " 0,\n",
       " 0,\n",
       " 0,\n",
       " 0,\n",
       " 0]"
      ]
     },
     "execution_count": 14,
     "metadata": {},
     "output_type": "execute_result"
    }
   ],
   "source": [
    "setofwordstovec(myVocablist,listOPosts[0])"
   ]
  },
  {
   "cell_type": "code",
   "execution_count": null,
   "metadata": {},
   "outputs": [],
   "source": []
  }
 ],
 "metadata": {
  "kernelspec": {
   "display_name": "Python 3",
   "language": "python",
   "name": "python3"
  },
  "language_info": {
   "codemirror_mode": {
    "name": "ipython",
    "version": 3
   },
   "file_extension": ".py",
   "mimetype": "text/x-python",
   "name": "python",
   "nbconvert_exporter": "python",
   "pygments_lexer": "ipython3",
   "version": "3.5.4"
  }
 },
 "nbformat": 4,
 "nbformat_minor": 2
}
